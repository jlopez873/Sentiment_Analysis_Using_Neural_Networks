{
 "cells": [
  {
   "cell_type": "markdown",
   "id": "ce5e5784",
   "metadata": {},
   "source": [
    "<a id='title'/>"
   ]
  },
  {
   "cell_type": "markdown",
   "id": "cb286c00",
   "metadata": {},
   "source": [
    "# <center>Sentiment Analysis Using Neural Networks</center>\n",
    "### <center>Javier Lopez</center>\n",
    "---"
   ]
  },
  {
   "cell_type": "markdown",
   "id": "7cf96356",
   "metadata": {},
   "source": [
    "## Table of Contents\n",
    "---\n",
    "Part I. <a href='#part1'>Research Question</a><br>\n",
    "&emsp;A1. <a href='#a1'>Research Question</a><br>\n",
    "&emsp;A2. <a href='#a2'>Objectives</a><br>\n",
    "&emsp;A3. <a href='#a3'>Neural Network Identification</a><br>\n",
    "Part II. <a href='#part2'>Data Preparation</a><br>\n",
    "&emsp;B1. <a href='#b1'>Exploratory Data Analysis</a><br>\n",
    "&emsp;&emsp;B1.1. <a href='#b1.1'>Presence of Unusual Characters</a><br>\n",
    "&emsp;&emsp;B1.2. <a href='#b1.2'>Vocabulary Size</a><br>\n",
    "&emsp;&emsp;B1.3. <a href='#b1.3'>Proposed Word Embedding Length</a><br>\n",
    "&emsp;&emsp;B1.4. <a href='#b1.4'>Statistical Justification: Max. Sequence Length</a><br>\n",
    "&emsp;B2. <a href='#b2'>Goals of the Tokenization Process</a><br>\n",
    "&emsp;B3. <a href='#b3'>Sequence Padding</a><br>\n",
    "&emsp;B4. <a href='#b4'>Categories of Sentiment and Activation Function</a><br>\n",
    "&emsp;B5. <a href='#b5'>Data Preprocessing Steps</a><br>\n",
    "&emsp;B6. <a href='#b6'>Prepared Dataset</a><br>\n",
    "Part III. <a href='#part3'>Network Architecture</a><br>\n",
    "&emsp;C1. <a href='#c1'>Model Summary Output</a><br>\n",
    "&emsp;C2. <a href='#c2'>Network Layers and Parameters</a><br>\n",
    "&emsp;C3. <a href='#c3'>Justification: Hyperparameters</a><br>\n",
    "Part IV. <a href='#part4'>Model Evaluation</a><br>\n",
    "&emsp;D1. <a href='#d1'>Impact of Using Stopping Criteria</a><br>\n",
    "&emsp;D2. <a href='#d2'>Visualizations: Model Training Process</a><br>\n",
    "&emsp;D3. <a href='#d3'>Model Fitness and Measures to Address Overfitting</a><br>\n",
    "&emsp;D4. <a href='#d4'>Predictive Accuracy</a><br>\n",
    "Part V. <a href='#part5'>Summary and Recommendations</a><br>\n",
    "&emsp;E. <a href='#e'>Save the Trained Network</a><br>\n",
    "&emsp;F. <a href='#f'>Neural Network Functionality</a><br>\n",
    "&emsp;G. <a href='#g'>Recommended Course of Action</a><br>"
   ]
  },
  {
   "cell_type": "markdown",
   "id": "112e5c61",
   "metadata": {},
   "source": [
    "## Part I: Research Question<a id='part1'/>\n",
    "---"
   ]
  },
  {
   "cell_type": "markdown",
   "id": "dfb9788b",
   "metadata": {},
   "source": [
    "### A1. Research Question<a id='a1'/>\n",
    "---\n",
    ">How does sentiment expressed in Amazon product reviews correlate with product ratings, and how can we use this information to predict future product success?\n",
    "---"
   ]
  },
  {
   "cell_type": "markdown",
   "id": "cf4b994a",
   "metadata": {},
   "source": [
    "### A2. Objectives<a id='a2'/>\n",
    "---\n",
    ">Our research question seeks to understand the relationship between the sentiment expressed in Amazon product reviews and the corresponding product ratings. More specifically, it aims to use this relationship to predict the future success of a product based on the sentiments expressed in its reviews.\n",
    ">\n",
    ">We've identified the following objectives to guide our data analysis:\n",
    ">\n",
    ">- **Sentiment Analysis:**<br>\n",
    ">We aim to develop a robust mechanism to extract and quantify the sentiment present in product reviews. The sentiment may be positive, negative, or neutral.\n",
    "><br><br>\n",
    ">- **Correlation Assessment:**<br>\n",
    ">Our next goal is to explore and understand the relationship between the expressed sentiment and the assigned product ratings. We want to ascertain if there's a clear correlation between the two, and the nature of this correlation, if it exists.\n",
    "><br><br>\n",
    ">- **Predictive Modeling:**<br>\n",
    ">Based on the correlation established, we aspire to build a predictive model that can forecast the likely success of a product, given a set of reviews. Success can be defined in several ways, such as future sales or ratings, which we'll need to specify based on available data and business needs.\n",
    "><br><br>\n",
    ">- **Model Evaluation and Refinement:**<br>\n",
    ">It's essential to rigorously evaluate our model's performance and make necessary refinements to enhance its predictive accuracy. We'll also be vigilant of common modeling pitfalls, such as overfitting.\n",
    "><br><br>\n",
    ">- **Business Insights Generation:**<br>\n",
    ">Lastly, we aim to translate our findings into actionable business insights that can guide decision-making related to product development, marketing strategy, and customer experience management.\n",
    "---"
   ]
  },
  {
   "cell_type": "markdown",
   "id": "459dc428",
   "metadata": {},
   "source": [
    "### A3. Neural Network Identification<a id='a3'/>\n",
    "---\n",
    ">One of the most popular types of neural networks for text classification tasks, such as sentiment analysis, is the Long Short-Term Memory network (LSTM), which is a type of Recurrent Neural Network (RNN).\n",
    ">\n",
    ">LSTMs are specifically designed to avoid the long-term dependency problem, which is the difficulty for an RNN in learning to connect past information to the present task, such as using past parts of a sequence to predict future parts. This makes them ideal for tasks involving sequential data, like text, where the order and context of words is important for understanding their meaning.\n",
    ">\n",
    ">An LSTM network can take the sequence of words in a review and learn to predict the sentiment based on the learned contextual meaning of the words. It does this by maintaining a 'cell state', or a kind of working memory, that it can add or remove information to over time. This allows it to keep or discard information over long sequences, making it very effective for this kind of task.\n",
    ">\n",
    ">An LSTM network can be trained on a dataset of Amazon reviews and their associated sentiments to produce useful predictions for the sentiment of new reviews. The model would take as input a sequence of words in a review and output a prediction for the sentiment of that review.\n",
    "---"
   ]
  },
  {
   "cell_type": "markdown",
   "id": "606ee317",
   "metadata": {},
   "source": [
    "<div style=\"text-align: right\"><a href='#title'>Scroll Up</a></div>\n",
    "\n",
    "## Part II: Data Preparation<a id='part2'/>\n",
    "---"
   ]
  },
  {
   "cell_type": "markdown",
   "id": "2198dec3",
   "metadata": {},
   "source": [
    "### Import Libraries/Packages<a id='import'/>\n",
    "---"
   ]
  },
  {
   "cell_type": "code",
   "execution_count": 1,
   "id": "f1f66c6e",
   "metadata": {},
   "outputs": [
    {
     "name": "stderr",
     "output_type": "stream",
     "text": [
      "2023-06-06 17:47:54.664946: I tensorflow/core/platform/cpu_feature_guard.cc:193] This TensorFlow binary is optimized with oneAPI Deep Neural Network Library (oneDNN) to use the following CPU instructions in performance-critical operations:  SSE4.1 SSE4.2\n",
      "To enable them in other operations, rebuild TensorFlow with the appropriate compiler flags.\n"
     ]
    }
   ],
   "source": [
    "import pandas as pd\n",
    "import numpy as np\n",
    "import matplotlib.pyplot as plt\n",
    "%matplotlib inline\n",
    "plt.rcParams['figure.figsize'] = [16,10]\n",
    "import seaborn as sns\n",
    "sns.set_palette('colorblind')\n",
    "import warnings\n",
    "warnings.filterwarnings('ignore')\n",
    "\n",
    "import re\n",
    "from tensorflow import convert_to_tensor\n",
    "from tensorflow.keras.preprocessing.text import Tokenizer\n",
    "from tensorflow.keras.preprocessing.sequence import pad_sequences\n",
    "from nltk.tokenize import word_tokenize\n",
    "from nltk.stem import WordNetLemmatizer\n",
    "from nltk.corpus import stopwords\n",
    "from sklearn.model_selection import train_test_split\n",
    "from tensorflow.keras.models import Sequential, load_model\n",
    "from tensorflow.keras.layers import Embedding, LSTM, Dense, Dropout\n",
    "from keras.callbacks import EarlyStopping\n",
    "from keras import regularizers"
   ]
  },
  {
   "cell_type": "markdown",
   "id": "ce54e946",
   "metadata": {},
   "source": [
    "### B1. Exploratory Data Analysis<a id='b1'/>\n",
    "---"
   ]
  },
  {
   "cell_type": "code",
   "execution_count": 2,
   "id": "c87e6b7d",
   "metadata": {},
   "outputs": [],
   "source": [
    "# Import data\n",
    "df = pd.read_json('review-West_Virginia_10.json', lines=True)"
   ]
  },
  {
   "cell_type": "code",
   "execution_count": 3,
   "id": "8404f67a",
   "metadata": {},
   "outputs": [
    {
     "name": "stdout",
     "output_type": "stream",
     "text": [
      "<class 'pandas.core.frame.DataFrame'>\n",
      "RangeIndex: 1080333 entries, 0 to 1080332\n",
      "Data columns (total 8 columns):\n",
      " #   Column   Non-Null Count    Dtype  \n",
      "---  ------   --------------    -----  \n",
      " 0   user_id  1080333 non-null  float64\n",
      " 1   name     1080333 non-null  object \n",
      " 2   time     1080333 non-null  int64  \n",
      " 3   rating   1080333 non-null  int64  \n",
      " 4   text     559223 non-null   object \n",
      " 5   pics     18588 non-null    object \n",
      " 6   resp     93149 non-null    object \n",
      " 7   gmap_id  1080333 non-null  object \n",
      "dtypes: float64(1), int64(2), object(5)\n",
      "memory usage: 65.9+ MB\n"
     ]
    }
   ],
   "source": [
    "# Review data shape\n",
    "df.info()"
   ]
  },
  {
   "cell_type": "code",
   "execution_count": 4,
   "id": "5cc3005f",
   "metadata": {},
   "outputs": [],
   "source": [
    "# Keep relevant columns\n",
    "df = df[['text', 'rating']]"
   ]
  },
  {
   "cell_type": "code",
   "execution_count": 5,
   "id": "c5a9e239",
   "metadata": {},
   "outputs": [],
   "source": [
    "# Remove observations with no text\n",
    "df = df.dropna(subset='text')"
   ]
  },
  {
   "cell_type": "code",
   "execution_count": 6,
   "id": "9dc5e548",
   "metadata": {},
   "outputs": [
    {
     "name": "stdout",
     "output_type": "stream",
     "text": [
      "<class 'pandas.core.frame.DataFrame'>\n",
      "Int64Index: 559223 entries, 0 to 1080186\n",
      "Data columns (total 2 columns):\n",
      " #   Column  Non-Null Count   Dtype \n",
      "---  ------  --------------   ----- \n",
      " 0   text    559223 non-null  object\n",
      " 1   rating  559223 non-null  int64 \n",
      "dtypes: int64(1), object(1)\n",
      "memory usage: 12.8+ MB\n"
     ]
    }
   ],
   "source": [
    "# Review data shape\n",
    "df.info()"
   ]
  },
  {
   "cell_type": "code",
   "execution_count": 7,
   "id": "77274145",
   "metadata": {},
   "outputs": [],
   "source": [
    "# Remove numbers from text\n",
    "def remove_numbers(text):\n",
    "    return re.sub(r'\\d+', '', text)\n",
    "\n",
    "df['text'] = df['text'].apply(remove_numbers)"
   ]
  },
  {
   "cell_type": "markdown",
   "id": "42659e10",
   "metadata": {},
   "source": [
    "#### B1.1. Presence of Unusual Characters<a id='b1.1'/>\n",
    "---\n",
    ">Navigating through our dataset, we found 123,958 observations with unusual characters such as emojis and non-English symbols. These characters aren't just noise; they add layers of meaning to reviews. Emojis, for instance, can provide cues about sentiment, a smile indicating positivity, a frown the opposite.\n",
    "---"
   ]
  },
  {
   "cell_type": "code",
   "execution_count": 8,
   "id": "acf5df6d",
   "metadata": {},
   "outputs": [],
   "source": [
    "# Define function to identify unusual characters\n",
    "def has_unusual_chars(text):\n",
    "    # usual characters to ignore\n",
    "    if re.search(r'[^\\w\\s,.;:!?\\-]', text):\n",
    "        return True\n",
    "    else:\n",
    "        return False"
   ]
  },
  {
   "cell_type": "code",
   "execution_count": 9,
   "id": "c8777c2b",
   "metadata": {},
   "outputs": [],
   "source": [
    "# Create new column to identify observations with unusual characters\n",
    "df['unusual_chars'] = df['text'].apply(has_unusual_chars)"
   ]
  },
  {
   "cell_type": "code",
   "execution_count": 10,
   "id": "8d9a863a",
   "metadata": {},
   "outputs": [
    {
     "data": {
      "text/html": [
       "<div>\n",
       "<style scoped>\n",
       "    .dataframe tbody tr th:only-of-type {\n",
       "        vertical-align: middle;\n",
       "    }\n",
       "\n",
       "    .dataframe tbody tr th {\n",
       "        vertical-align: top;\n",
       "    }\n",
       "\n",
       "    .dataframe thead th {\n",
       "        text-align: right;\n",
       "    }\n",
       "</style>\n",
       "<table border=\"1\" class=\"dataframe\">\n",
       "  <thead>\n",
       "    <tr style=\"text-align: right;\">\n",
       "      <th></th>\n",
       "      <th>text</th>\n",
       "      <th>rating</th>\n",
       "      <th>unusual_chars</th>\n",
       "    </tr>\n",
       "  </thead>\n",
       "  <tbody>\n",
       "    <tr>\n",
       "      <th>0</th>\n",
       "      <td>Nice personnel and atmosphere and have done bu...</td>\n",
       "      <td>4</td>\n",
       "      <td>True</td>\n",
       "    </tr>\n",
       "    <tr>\n",
       "      <th>1</th>\n",
       "      <td>Maggie is awesome..very sweet &amp; helpful.\\nLadi...</td>\n",
       "      <td>5</td>\n",
       "      <td>True</td>\n",
       "    </tr>\n",
       "    <tr>\n",
       "      <th>15</th>\n",
       "      <td>Prices are good 👍 not an over abundance of foo...</td>\n",
       "      <td>3</td>\n",
       "      <td>True</td>\n",
       "    </tr>\n",
       "    <tr>\n",
       "      <th>23</th>\n",
       "      <td>I Paid For A Phone Online I Called Them A Week...</td>\n",
       "      <td>1</td>\n",
       "      <td>True</td>\n",
       "    </tr>\n",
       "    <tr>\n",
       "      <th>26</th>\n",
       "      <td>I'm in the process of purchasing a laptop thro...</td>\n",
       "      <td>1</td>\n",
       "      <td>True</td>\n",
       "    </tr>\n",
       "    <tr>\n",
       "      <th>...</th>\n",
       "      <td>...</td>\n",
       "      <td>...</td>\n",
       "      <td>...</td>\n",
       "    </tr>\n",
       "    <tr>\n",
       "      <th>1080151</th>\n",
       "      <td>It was so cold in there we couldn't eat and th...</td>\n",
       "      <td>2</td>\n",
       "      <td>True</td>\n",
       "    </tr>\n",
       "    <tr>\n",
       "      <th>1080155</th>\n",
       "      <td>Awesome 👍</td>\n",
       "      <td>4</td>\n",
       "      <td>True</td>\n",
       "    </tr>\n",
       "    <tr>\n",
       "      <th>1080171</th>\n",
       "      <td>☆☆</td>\n",
       "      <td>3</td>\n",
       "      <td>True</td>\n",
       "    </tr>\n",
       "    <tr>\n",
       "      <th>1080173</th>\n",
       "      <td>It's a Taco Bell.</td>\n",
       "      <td>3</td>\n",
       "      <td>True</td>\n",
       "    </tr>\n",
       "    <tr>\n",
       "      <th>1080186</th>\n",
       "      <td>(Translated by Google) As good as ever. As goo...</td>\n",
       "      <td>5</td>\n",
       "      <td>True</td>\n",
       "    </tr>\n",
       "  </tbody>\n",
       "</table>\n",
       "<p>123958 rows × 3 columns</p>\n",
       "</div>"
      ],
      "text/plain": [
       "                                                      text  rating  \\\n",
       "0        Nice personnel and atmosphere and have done bu...       4   \n",
       "1        Maggie is awesome..very sweet & helpful.\\nLadi...       5   \n",
       "15       Prices are good 👍 not an over abundance of foo...       3   \n",
       "23       I Paid For A Phone Online I Called Them A Week...       1   \n",
       "26       I'm in the process of purchasing a laptop thro...       1   \n",
       "...                                                    ...     ...   \n",
       "1080151  It was so cold in there we couldn't eat and th...       2   \n",
       "1080155                                          Awesome 👍       4   \n",
       "1080171                                                 ☆☆       3   \n",
       "1080173                                  It's a Taco Bell.       3   \n",
       "1080186  (Translated by Google) As good as ever. As goo...       5   \n",
       "\n",
       "         unusual_chars  \n",
       "0                 True  \n",
       "1                 True  \n",
       "15                True  \n",
       "23                True  \n",
       "26                True  \n",
       "...                ...  \n",
       "1080151           True  \n",
       "1080155           True  \n",
       "1080171           True  \n",
       "1080173           True  \n",
       "1080186           True  \n",
       "\n",
       "[123958 rows x 3 columns]"
      ]
     },
     "execution_count": 10,
     "metadata": {},
     "output_type": "execute_result"
    }
   ],
   "source": [
    "# View identified characters\n",
    "df[df['unusual_chars'] == True]"
   ]
  },
  {
   "cell_type": "code",
   "execution_count": 11,
   "id": "db3e2bb0",
   "metadata": {},
   "outputs": [
    {
     "name": "stdout",
     "output_type": "stream",
     "text": [
      "Percent of Observation with Unusual Characters: 22.17%\n"
     ]
    }
   ],
   "source": [
    "# Quantify observations found\n",
    "print(f'Percent of Observation with Unusual Characters: {round(df.unusual_chars.mean() * 100, 2)}%')"
   ]
  },
  {
   "cell_type": "markdown",
   "id": "6f1f6a0e",
   "metadata": {},
   "source": [
    "#### B1.2. Vocabulary Size<a id='b1.2'/>\n",
    "---\n",
    ">In our analysis, we've found that our word index comprises a total of 66,112 unique words. This substantial vocabulary size emphasizes the variety of language used in the Amazon reviews. It reflects the challenge our model faces in deciphering patterns, but also the potential depth of insight we can extract from these diverse expressions.\n",
    "---"
   ]
  },
  {
   "cell_type": "code",
   "execution_count": 12,
   "id": "9b5985f9",
   "metadata": {},
   "outputs": [],
   "source": [
    "# Initialize a Tokenizer object\n",
    "tokenizer = Tokenizer(num_words=10000)"
   ]
  },
  {
   "cell_type": "code",
   "execution_count": 13,
   "id": "1e44edc7",
   "metadata": {},
   "outputs": [],
   "source": [
    "# Fit the tokenizer on the text data\n",
    "tokenizer.fit_on_texts(df['text'])"
   ]
  },
  {
   "cell_type": "code",
   "execution_count": 14,
   "id": "a5485d28",
   "metadata": {},
   "outputs": [],
   "source": [
    "# Convert texts into sequences of integers and tokens\n",
    "df['sequence'] = tokenizer.texts_to_sequences(df['text'])\n",
    "df['seq_text'] = tokenizer.sequences_to_texts(df['sequence'])"
   ]
  },
  {
   "cell_type": "code",
   "execution_count": 15,
   "id": "8c798c99",
   "metadata": {},
   "outputs": [
    {
     "name": "stdout",
     "output_type": "stream",
     "text": [
      "Found 66112 unique tokens.\n"
     ]
    }
   ],
   "source": [
    "# Count the word index\n",
    "word_index = tokenizer.word_index\n",
    "print(f'Found {len(word_index)} unique tokens.')"
   ]
  },
  {
   "cell_type": "markdown",
   "id": "c6040ab0",
   "metadata": {},
   "source": [
    "#### B1.3. Proposed Word Embedding Length<a id='b1.3'/>\n",
    "---\n",
    ">The decision to choose a specific word embedding length predominantly revolves around the compromise between computational efficiency and the volume of information the embedding can contain. An embedding length ranging between 100 and 300 dimensions is a common choice in numerous natural language processing tasks. Regarded as a hyperparameter of the model, the embedding length can be adjusted to achieve optimal performance. Given the intricacy of our text, a dimension of 200 emerges as a favored balance, harmonizing the complexity of the text with the computational resources we have allocated.\n",
    "---"
   ]
  },
  {
   "cell_type": "markdown",
   "id": "513e2816",
   "metadata": {},
   "source": [
    "#### B1.4 Statistical Justification: Max. Sequence Length<a id='b1.4'/>\n",
    "---\n",
    ">The maximum sequence length is a crucial parameter that requires thoughtful setting when training a sequence model like an LSTM. One approach to determining this parameter is by examining the distribution of sequence lengths within the data. Inferences drawn from the summary statistics and the histogram plot reveal that 95% of all reviews possess a sequence length of 55 tokens. Thus, we plan to utilize 55 as the maximum sequence length, an approach that allows us to encapsulate most of the data without inducing overfitting to the model.\n",
    "---"
   ]
  },
  {
   "cell_type": "code",
   "execution_count": 16,
   "id": "3dc37a96",
   "metadata": {},
   "outputs": [],
   "source": [
    "# Calculate sequence lengths\n",
    "df['seq_length'] = df['sequence'].apply(len)\n",
    "df.drop('sequence', axis=1, inplace=True)"
   ]
  },
  {
   "cell_type": "code",
   "execution_count": 17,
   "id": "dad2a9f1",
   "metadata": {},
   "outputs": [
    {
     "name": "stdout",
     "output_type": "stream",
     "text": [
      "count    559223.000000\n",
      "mean         15.839527\n",
      "std          24.808487\n",
      "min           0.000000\n",
      "25%           4.000000\n",
      "50%           8.000000\n",
      "75%          18.000000\n",
      "max         778.000000\n",
      "Name: seq_length, dtype: float64\n"
     ]
    }
   ],
   "source": [
    "# Print summary statistics\n",
    "print(df['seq_length'].describe())"
   ]
  },
  {
   "cell_type": "code",
   "execution_count": 18,
   "id": "59476f97",
   "metadata": {},
   "outputs": [
    {
     "data": {
      "image/png": "[encoded data removed]",
      "text/plain": [
       "<Figure size 1152x360 with 1 Axes>"
      ]
     },
     "metadata": {
      "needs_background": "light"
     },
     "output_type": "display_data"
    }
   ],
   "source": [
    "plt.rcParams['figure.figsize'] = [16,5]\n",
    "# Visualize distribution of sequence lengths\n",
    "sns.histplot(data=df['seq_length'], bins=50)\n",
    "plt.title('Distribution of Sequence Lengths')\n",
    "plt.xlabel('Sequence Length')\n",
    "plt.ylabel('Frequency')\n",
    "plt.show()\n",
    "plt.rcParams['figure.figsize'] = [16,10]"
   ]
  },
  {
   "cell_type": "code",
   "execution_count": 19,
   "id": "461a61f2",
   "metadata": {},
   "outputs": [
    {
     "name": "stdout",
     "output_type": "stream",
     "text": [
      "Chosen Maximum Sequence Length: 55 tokens\n"
     ]
    }
   ],
   "source": [
    "# Identify the 95th percentile of sequence lengths\n",
    "max_seq = int(df.seq_length.quantile(0.95))\n",
    "print(f'Chosen Maximum Sequence Length: {max_seq} tokens')"
   ]
  },
  {
   "cell_type": "markdown",
   "id": "b81e77b9",
   "metadata": {},
   "source": [
    "### B2. Goals of the Tokenization Process\n",
    "---\n",
    ">Tokenization is the technique of dividing text into pieces, commonly known as tokens. These tokens could range from sentences and words to subwords or even individual characters.\n",
    ">\n",
    ">The principal objectives we aim to achieve with tokenization include:\n",
    ">\n",
    ">- Disassembling text into tokens, which subsequently become the fundamental units of text that the machine learning model can comprehend and learn from.\n",
    ">- Removing punctuation and unnecessary or special characters that do not offer beneficial information for our model. The keras Tokenization function is specifically tailored to manage this process seamlessly.\n",
    ">- Transforming words to lowercase to ensure that identical words in different cases are recognized as the same. The keras Tokenization function effortlessly facilitates this process.\n",
    ">- Removing HTML tags or other unique substrings that may be present due to web scraping. Again, the keras Tokenization function proves to be proficient at handling this task.\n",
    ">\n",
    ">Normalization forms an additional process with the ultimate aim of converting the text into a standardized or regular format. This reduction of data complexity allows the machine learning model to more effectively learn from it.\n",
    ">\n",
    ">Our key objectives for normalization include:\n",
    ">\n",
    ">- Implementing lemmatization, a process that reduces inflected or occasionally derived words to their root or stem form. For example, \"runs\", \"running\", \"ran\" are all different forms of the word \"run\".\n",
    ">- Removing stop words such as \"is\", \"the\", and \"in\", which typically lack substantial meaningful information.\"\n",
    "---"
   ]
  },
  {
   "cell_type": "code",
   "execution_count": 20,
   "id": "f3ee814b",
   "metadata": {},
   "outputs": [],
   "source": [
    "# Tokenize text sequence\n",
    "df['tokens'] = df['seq_text'].apply(word_tokenize)"
   ]
  },
  {
   "cell_type": "code",
   "execution_count": 21,
   "id": "4b88d85b",
   "metadata": {},
   "outputs": [],
   "source": [
    "# Initialize a WordNetLemmatizer object\n",
    "lemmatizer = WordNetLemmatizer()"
   ]
  },
  {
   "cell_type": "code",
   "execution_count": 22,
   "id": "833be10b",
   "metadata": {},
   "outputs": [],
   "source": [
    "# Define a function to lemmatize tokens\n",
    "def lemmatize_words(words):\n",
    "    return [lemmatizer.lemmatize(word) for word in words]"
   ]
  },
  {
   "cell_type": "code",
   "execution_count": 23,
   "id": "0e473e18",
   "metadata": {},
   "outputs": [],
   "source": [
    "# Convert words into their root forms\n",
    "df['lemmatized'] = df['tokens'].apply(lemmatize_words)"
   ]
  },
  {
   "cell_type": "code",
   "execution_count": 24,
   "id": "bc93e57b",
   "metadata": {},
   "outputs": [],
   "source": [
    "stop_words = set(stopwords.words('english'))\n",
    "\n",
    "# Define function to remove stop words\n",
    "def remove_stopwords(words):\n",
    "    return [word for word in words if word not in stop_words]"
   ]
  },
  {
   "cell_type": "code",
   "execution_count": 25,
   "id": "24ec3cdd",
   "metadata": {},
   "outputs": [],
   "source": [
    "# Remove stop words from tokenized text\n",
    "df['filtered'] = df['lemmatized'].apply(remove_stopwords)"
   ]
  },
  {
   "cell_type": "markdown",
   "id": "388ee0c3",
   "metadata": {},
   "source": [
    "### B3. Sequence Padding<a id='b3'/>\n",
    "---\n",
    ">Padding is an indispensable preprocessing stage that ensures all sequences, or lists of tokens, within a dataset maintain a uniform length. This uniformity is a prerequisite as most machine learning models mandate their input to have a consistent shape. If sequences fall short of a certain length, padding steps in to fill the remaining spaces with 0, whereas sequences exceeding the length are generally truncated to match it.\n",
    ">\n",
    ">- We first decide on a sequence length. Choosing the sequence length often involves a trade-off: if it's too short, we might lose useful information; if it's too long, we might introduce too much noise from the extra padding.\n",
    "><br><br>\n",
    ">- We then use the Keras pad_sequences function to apply padding to the sequences. The function takes a list of sequences (list of lists) and transforms them all into sequences of the same length.\n",
    ">\n",
    ">The decision between pre-padding and post-padding holds significant relevance when working with LSTM networks. Given their gating mechanisms, these networks may potentially \"forget\" information from earlier in the sequence. Consequently, it's generally more effective to pad at the sequence's beginning (pre-padding), as the network might not pay much attention to padding tokens.\n",
    "---"
   ]
  },
  {
   "cell_type": "code",
   "execution_count": 26,
   "id": "db94feb9",
   "metadata": {},
   "outputs": [],
   "source": [
    "# Fit the tokenizer on the text data\n",
    "tokenizer.fit_on_texts(df['filtered'])"
   ]
  },
  {
   "cell_type": "code",
   "execution_count": 27,
   "id": "b13e997a",
   "metadata": {},
   "outputs": [
    {
     "name": "stdout",
     "output_type": "stream",
     "text": [
      "Found 66134 unique tokens.\n"
     ]
    }
   ],
   "source": [
    "# Count the word index\n",
    "word_index = tokenizer.word_index\n",
    "print(f'Found {len(word_index)} unique tokens.')"
   ]
  },
  {
   "cell_type": "code",
   "execution_count": 28,
   "id": "c8a2dd89",
   "metadata": {},
   "outputs": [],
   "source": [
    "# Sequence the filtered text\n",
    "df['seq'] = tokenizer.texts_to_sequences(df['filtered'])"
   ]
  },
  {
   "cell_type": "code",
   "execution_count": 29,
   "id": "55cd05b5",
   "metadata": {},
   "outputs": [],
   "source": [
    "# Pad sequences\n",
    "padded_sequences = pad_sequences(df['seq'].values, maxlen=max_seq)"
   ]
  },
  {
   "cell_type": "code",
   "execution_count": 30,
   "id": "08ea6b75",
   "metadata": {},
   "outputs": [
    {
     "data": {
      "text/plain": [
       "['nice',\n",
       " 'personnel',\n",
       " 'atmosphere',\n",
       " 'done',\n",
       " 'business',\n",
       " 'several',\n",
       " 'year',\n",
       " 'feel',\n",
       " 'free',\n",
       " 'delivery',\n",
       " 'repeat',\n",
       " 'customer',\n",
       " 'charge',\n",
       " 'additional',\n",
       " 'customer',\n",
       " 'service',\n",
       " 'go',\n",
       " 'selling']"
      ]
     },
     "execution_count": 30,
     "metadata": {},
     "output_type": "execute_result"
    }
   ],
   "source": [
    "# Single sequence\n",
    "df.loc[0]['filtered']"
   ]
  },
  {
   "cell_type": "code",
   "execution_count": 31,
   "id": "8f7237e1",
   "metadata": {},
   "outputs": [
    {
     "data": {
      "text/plain": [
       "array([   0,    0,    0,    0,    0,    0,    0,    0,    0,    0,    0,\n",
       "          0,    0,    0,    0,    0,    0,    0,    0,    0,    0,    0,\n",
       "          0,    0,    0,    0,    0,    0,    0,    0,    0,    0,    0,\n",
       "          0,    0,    0,    0,   17, 1967,   87,  239,  251,  347,  197,\n",
       "        288,  281,  658, 2267,   88,  731, 2101,   88,    8,   36, 1747],\n",
       "      dtype=int32)"
      ]
     },
     "execution_count": 31,
     "metadata": {},
     "output_type": "execute_result"
    }
   ],
   "source": [
    "# Single padded sequence\n",
    "padded_sequences[0]"
   ]
  },
  {
   "cell_type": "markdown",
   "id": "5e2f2722",
   "metadata": {},
   "source": [
    "### B4. Categories of Sentiment and Activation Function<a id='b4'/>\n",
    "---\n",
    "> We will be doing multi-class classification (positive, neutral, and negative sentiment), where we will have 3 categories. To achieve this, we will encode the rating column (our target variable) as follows:\n",
    ">- Negative (rating 1 and 2), Encoded as [1,0,0]\n",
    ">- Neutral (rating 3), Encoded as [0,1,0]\n",
    ">- Positive (rating 4 and 5), Encoded as [0,0,1]\n",
    ">\n",
    ">The final dense layer of the network will have 3 neurons, one for each class, and will use the softmax activation function, which outputs a probability distribution over the classes.\n",
    "---"
   ]
  },
  {
   "cell_type": "code",
   "execution_count": 32,
   "id": "0b035d4c",
   "metadata": {},
   "outputs": [],
   "source": [
    "# Label and encode ratings\n",
    "rating_dict = {\n",
    "    1: 'Negative',\n",
    "    2: 'Negative',\n",
    "    3: 'Neutral',\n",
    "    4: 'Positive',\n",
    "    5: 'Positive'\n",
    "}\n",
    "\n",
    "df['class_rating'] = df['rating'].map(rating_dict)"
   ]
  },
  {
   "cell_type": "code",
   "execution_count": 33,
   "id": "12d5d169",
   "metadata": {},
   "outputs": [],
   "source": [
    "# One-hot encode classes\n",
    "df_encoded = pd.get_dummies(df['class_rating'])"
   ]
  },
  {
   "cell_type": "code",
   "execution_count": 34,
   "id": "8bd946bf",
   "metadata": {},
   "outputs": [
    {
     "data": {
      "text/html": [
       "<div>\n",
       "<style scoped>\n",
       "    .dataframe tbody tr th:only-of-type {\n",
       "        vertical-align: middle;\n",
       "    }\n",
       "\n",
       "    .dataframe tbody tr th {\n",
       "        vertical-align: top;\n",
       "    }\n",
       "\n",
       "    .dataframe thead th {\n",
       "        text-align: right;\n",
       "    }\n",
       "</style>\n",
       "<table border=\"1\" class=\"dataframe\">\n",
       "  <thead>\n",
       "    <tr style=\"text-align: right;\">\n",
       "      <th></th>\n",
       "      <th>Negative</th>\n",
       "      <th>Neutral</th>\n",
       "      <th>Positive</th>\n",
       "    </tr>\n",
       "  </thead>\n",
       "  <tbody>\n",
       "    <tr>\n",
       "      <th>0</th>\n",
       "      <td>0</td>\n",
       "      <td>0</td>\n",
       "      <td>1</td>\n",
       "    </tr>\n",
       "    <tr>\n",
       "      <th>1</th>\n",
       "      <td>0</td>\n",
       "      <td>0</td>\n",
       "      <td>1</td>\n",
       "    </tr>\n",
       "    <tr>\n",
       "      <th>2</th>\n",
       "      <td>0</td>\n",
       "      <td>1</td>\n",
       "      <td>0</td>\n",
       "    </tr>\n",
       "    <tr>\n",
       "      <th>3</th>\n",
       "      <td>0</td>\n",
       "      <td>0</td>\n",
       "      <td>1</td>\n",
       "    </tr>\n",
       "    <tr>\n",
       "      <th>6</th>\n",
       "      <td>0</td>\n",
       "      <td>0</td>\n",
       "      <td>1</td>\n",
       "    </tr>\n",
       "  </tbody>\n",
       "</table>\n",
       "</div>"
      ],
      "text/plain": [
       "   Negative  Neutral  Positive\n",
       "0         0        0         1\n",
       "1         0        0         1\n",
       "2         0        1         0\n",
       "3         0        0         1\n",
       "6         0        0         1"
      ]
     },
     "execution_count": 34,
     "metadata": {},
     "output_type": "execute_result"
    }
   ],
   "source": [
    "df_encoded.head()"
   ]
  },
  {
   "cell_type": "markdown",
   "id": "f9aa746c",
   "metadata": {},
   "source": [
    "### B5. Data Preprocessing Steps<a id='b5'/>\n",
    "---\n",
    ">**Data Cleaning:**\n",
    "Our initial step involves addressing missing values, eliminating duplicates, and checking for data inconsistencies. In this scenario, it's essential to discard any reviews devoid of text.\n",
    ">\n",
    ">**Data Transformation:**\n",
    "This phase involves reformatting our data into a format that's suitable for analysis. \n",
    ">\n",
    ">Specifically, it entails several sub-steps:\n",
    ">\n",
    ">- **Text Normalization:** We'll transform all text into lowercase and eliminate punctuation.\n",
    ">- **Text Tokenization:** This involves deconstructing the reviews into individual words or tokens.\n",
    ">- **Removing Stop Words:** This step discards common words that carry minimal meaningful information, like 'the', 'a', 'in', etc.\n",
    ">- **Stemming/Lemmatization:** We'll condense words to their root or base form (for example, 'running' becomes 'run').\n",
    ">- **Encoding Text:** Here, we convert words into integers or vectors that serve as input for our neural network.\n",
    ">- **Encoding Labels:** This involves converting sentiment labels into one-hot vectors.\n",
    ">- **Padding Sequences:** We ensure all our text sequences possess uniform length by padding shorter ones with zeros.\n",
    ">\n",
    ">**Data Splitting:** We'll divide the dataset into a training set, a validation set, and a test set. The training set is employed to train the model, the validation set aids in tuning parameters and adjusting model settings during training, and the test set evaluates the final model. Generally, a 70% split is allocated for training, 15% for validation, and 15% for testing.\n",
    "\n",
    "---"
   ]
  },
  {
   "cell_type": "code",
   "execution_count": 35,
   "id": "890d0662",
   "metadata": {},
   "outputs": [],
   "source": [
    "# Define the X and y values\n",
    "X = padded_sequences\n",
    "y = df_encoded.values"
   ]
  },
  {
   "cell_type": "code",
   "execution_count": 36,
   "id": "48f36f7f",
   "metadata": {},
   "outputs": [],
   "source": [
    "# Split training and testing sets\n",
    "X_train, X_test, y_train, y_test = train_test_split(X, y, train_size=0.7)"
   ]
  },
  {
   "cell_type": "markdown",
   "id": "606675af",
   "metadata": {},
   "source": [
    "### B6. Prepared Dataset<a id='b6'/>\n",
    "---"
   ]
  },
  {
   "cell_type": "code",
   "execution_count": 37,
   "id": "88518333",
   "metadata": {},
   "outputs": [
    {
     "data": {
      "text/html": [
       "<div>\n",
       "<style scoped>\n",
       "    .dataframe tbody tr th:only-of-type {\n",
       "        vertical-align: middle;\n",
       "    }\n",
       "\n",
       "    .dataframe tbody tr th {\n",
       "        vertical-align: top;\n",
       "    }\n",
       "\n",
       "    .dataframe thead th {\n",
       "        text-align: right;\n",
       "    }\n",
       "</style>\n",
       "<table border=\"1\" class=\"dataframe\">\n",
       "  <thead>\n",
       "    <tr style=\"text-align: right;\">\n",
       "      <th></th>\n",
       "      <th>0</th>\n",
       "      <th>1</th>\n",
       "      <th>2</th>\n",
       "      <th>3</th>\n",
       "      <th>4</th>\n",
       "      <th>5</th>\n",
       "      <th>6</th>\n",
       "      <th>7</th>\n",
       "      <th>8</th>\n",
       "      <th>9</th>\n",
       "      <th>...</th>\n",
       "      <th>48</th>\n",
       "      <th>49</th>\n",
       "      <th>50</th>\n",
       "      <th>51</th>\n",
       "      <th>52</th>\n",
       "      <th>53</th>\n",
       "      <th>54</th>\n",
       "      <th>Negative</th>\n",
       "      <th>Neutral</th>\n",
       "      <th>Positive</th>\n",
       "    </tr>\n",
       "  </thead>\n",
       "  <tbody>\n",
       "    <tr>\n",
       "      <th>0</th>\n",
       "      <td>0</td>\n",
       "      <td>0</td>\n",
       "      <td>0</td>\n",
       "      <td>0</td>\n",
       "      <td>0</td>\n",
       "      <td>0</td>\n",
       "      <td>0</td>\n",
       "      <td>0</td>\n",
       "      <td>0</td>\n",
       "      <td>0</td>\n",
       "      <td>...</td>\n",
       "      <td>88</td>\n",
       "      <td>731</td>\n",
       "      <td>2101</td>\n",
       "      <td>88</td>\n",
       "      <td>8</td>\n",
       "      <td>36</td>\n",
       "      <td>1747</td>\n",
       "      <td>0</td>\n",
       "      <td>0</td>\n",
       "      <td>1</td>\n",
       "    </tr>\n",
       "    <tr>\n",
       "      <th>1</th>\n",
       "      <td>0</td>\n",
       "      <td>0</td>\n",
       "      <td>0</td>\n",
       "      <td>0</td>\n",
       "      <td>0</td>\n",
       "      <td>0</td>\n",
       "      <td>0</td>\n",
       "      <td>0</td>\n",
       "      <td>0</td>\n",
       "      <td>0</td>\n",
       "      <td>...</td>\n",
       "      <td>412</td>\n",
       "      <td>14</td>\n",
       "      <td>19</td>\n",
       "      <td>2465</td>\n",
       "      <td>822</td>\n",
       "      <td>217</td>\n",
       "      <td>109</td>\n",
       "      <td>0</td>\n",
       "      <td>0</td>\n",
       "      <td>1</td>\n",
       "    </tr>\n",
       "    <tr>\n",
       "      <th>2</th>\n",
       "      <td>0</td>\n",
       "      <td>0</td>\n",
       "      <td>0</td>\n",
       "      <td>0</td>\n",
       "      <td>0</td>\n",
       "      <td>0</td>\n",
       "      <td>0</td>\n",
       "      <td>0</td>\n",
       "      <td>0</td>\n",
       "      <td>0</td>\n",
       "      <td>...</td>\n",
       "      <td>0</td>\n",
       "      <td>0</td>\n",
       "      <td>63</td>\n",
       "      <td>236</td>\n",
       "      <td>314</td>\n",
       "      <td>14</td>\n",
       "      <td>40</td>\n",
       "      <td>0</td>\n",
       "      <td>1</td>\n",
       "      <td>0</td>\n",
       "    </tr>\n",
       "    <tr>\n",
       "      <th>3</th>\n",
       "      <td>0</td>\n",
       "      <td>0</td>\n",
       "      <td>0</td>\n",
       "      <td>0</td>\n",
       "      <td>0</td>\n",
       "      <td>0</td>\n",
       "      <td>0</td>\n",
       "      <td>0</td>\n",
       "      <td>0</td>\n",
       "      <td>0</td>\n",
       "      <td>...</td>\n",
       "      <td>0</td>\n",
       "      <td>0</td>\n",
       "      <td>0</td>\n",
       "      <td>0</td>\n",
       "      <td>131</td>\n",
       "      <td>9</td>\n",
       "      <td>975</td>\n",
       "      <td>0</td>\n",
       "      <td>0</td>\n",
       "      <td>1</td>\n",
       "    </tr>\n",
       "    <tr>\n",
       "      <th>4</th>\n",
       "      <td>0</td>\n",
       "      <td>0</td>\n",
       "      <td>0</td>\n",
       "      <td>0</td>\n",
       "      <td>0</td>\n",
       "      <td>0</td>\n",
       "      <td>0</td>\n",
       "      <td>0</td>\n",
       "      <td>0</td>\n",
       "      <td>0</td>\n",
       "      <td>...</td>\n",
       "      <td>2293</td>\n",
       "      <td>3969</td>\n",
       "      <td>912</td>\n",
       "      <td>3</td>\n",
       "      <td>63</td>\n",
       "      <td>1632</td>\n",
       "      <td>786</td>\n",
       "      <td>0</td>\n",
       "      <td>0</td>\n",
       "      <td>1</td>\n",
       "    </tr>\n",
       "    <tr>\n",
       "      <th>...</th>\n",
       "      <td>...</td>\n",
       "      <td>...</td>\n",
       "      <td>...</td>\n",
       "      <td>...</td>\n",
       "      <td>...</td>\n",
       "      <td>...</td>\n",
       "      <td>...</td>\n",
       "      <td>...</td>\n",
       "      <td>...</td>\n",
       "      <td>...</td>\n",
       "      <td>...</td>\n",
       "      <td>...</td>\n",
       "      <td>...</td>\n",
       "      <td>...</td>\n",
       "      <td>...</td>\n",
       "      <td>...</td>\n",
       "      <td>...</td>\n",
       "      <td>...</td>\n",
       "      <td>...</td>\n",
       "      <td>...</td>\n",
       "      <td>...</td>\n",
       "    </tr>\n",
       "    <tr>\n",
       "      <th>559218</th>\n",
       "      <td>0</td>\n",
       "      <td>0</td>\n",
       "      <td>0</td>\n",
       "      <td>0</td>\n",
       "      <td>0</td>\n",
       "      <td>0</td>\n",
       "      <td>0</td>\n",
       "      <td>0</td>\n",
       "      <td>0</td>\n",
       "      <td>0</td>\n",
       "      <td>...</td>\n",
       "      <td>0</td>\n",
       "      <td>0</td>\n",
       "      <td>0</td>\n",
       "      <td>0</td>\n",
       "      <td>0</td>\n",
       "      <td>5</td>\n",
       "      <td>8</td>\n",
       "      <td>0</td>\n",
       "      <td>1</td>\n",
       "      <td>0</td>\n",
       "    </tr>\n",
       "    <tr>\n",
       "      <th>559219</th>\n",
       "      <td>0</td>\n",
       "      <td>0</td>\n",
       "      <td>0</td>\n",
       "      <td>0</td>\n",
       "      <td>0</td>\n",
       "      <td>0</td>\n",
       "      <td>0</td>\n",
       "      <td>0</td>\n",
       "      <td>0</td>\n",
       "      <td>0</td>\n",
       "      <td>...</td>\n",
       "      <td>0</td>\n",
       "      <td>0</td>\n",
       "      <td>0</td>\n",
       "      <td>0</td>\n",
       "      <td>0</td>\n",
       "      <td>5</td>\n",
       "      <td>8</td>\n",
       "      <td>0</td>\n",
       "      <td>0</td>\n",
       "      <td>1</td>\n",
       "    </tr>\n",
       "    <tr>\n",
       "      <th>559220</th>\n",
       "      <td>0</td>\n",
       "      <td>0</td>\n",
       "      <td>0</td>\n",
       "      <td>0</td>\n",
       "      <td>0</td>\n",
       "      <td>0</td>\n",
       "      <td>0</td>\n",
       "      <td>0</td>\n",
       "      <td>0</td>\n",
       "      <td>0</td>\n",
       "      <td>...</td>\n",
       "      <td>0</td>\n",
       "      <td>0</td>\n",
       "      <td>0</td>\n",
       "      <td>29</td>\n",
       "      <td>362</td>\n",
       "      <td>588</td>\n",
       "      <td>498</td>\n",
       "      <td>0</td>\n",
       "      <td>0</td>\n",
       "      <td>1</td>\n",
       "    </tr>\n",
       "    <tr>\n",
       "      <th>559221</th>\n",
       "      <td>0</td>\n",
       "      <td>0</td>\n",
       "      <td>0</td>\n",
       "      <td>0</td>\n",
       "      <td>0</td>\n",
       "      <td>0</td>\n",
       "      <td>0</td>\n",
       "      <td>0</td>\n",
       "      <td>0</td>\n",
       "      <td>0</td>\n",
       "      <td>...</td>\n",
       "      <td>0</td>\n",
       "      <td>0</td>\n",
       "      <td>32</td>\n",
       "      <td>1929</td>\n",
       "      <td>785</td>\n",
       "      <td>432</td>\n",
       "      <td>443</td>\n",
       "      <td>0</td>\n",
       "      <td>0</td>\n",
       "      <td>1</td>\n",
       "    </tr>\n",
       "    <tr>\n",
       "      <th>559222</th>\n",
       "      <td>0</td>\n",
       "      <td>0</td>\n",
       "      <td>0</td>\n",
       "      <td>0</td>\n",
       "      <td>0</td>\n",
       "      <td>0</td>\n",
       "      <td>0</td>\n",
       "      <td>0</td>\n",
       "      <td>0</td>\n",
       "      <td>0</td>\n",
       "      <td>...</td>\n",
       "      <td>5</td>\n",
       "      <td>19</td>\n",
       "      <td>437</td>\n",
       "      <td>4137</td>\n",
       "      <td>5107</td>\n",
       "      <td>5</td>\n",
       "      <td>19</td>\n",
       "      <td>0</td>\n",
       "      <td>0</td>\n",
       "      <td>1</td>\n",
       "    </tr>\n",
       "  </tbody>\n",
       "</table>\n",
       "<p>559223 rows × 58 columns</p>\n",
       "</div>"
      ],
      "text/plain": [
       "        0  1  2  3  4  5  6  7  8  9  ...    48    49    50    51    52    53  \\\n",
       "0       0  0  0  0  0  0  0  0  0  0  ...    88   731  2101    88     8    36   \n",
       "1       0  0  0  0  0  0  0  0  0  0  ...   412    14    19  2465   822   217   \n",
       "2       0  0  0  0  0  0  0  0  0  0  ...     0     0    63   236   314    14   \n",
       "3       0  0  0  0  0  0  0  0  0  0  ...     0     0     0     0   131     9   \n",
       "4       0  0  0  0  0  0  0  0  0  0  ...  2293  3969   912     3    63  1632   \n",
       "...    .. .. .. .. .. .. .. .. .. ..  ...   ...   ...   ...   ...   ...   ...   \n",
       "559218  0  0  0  0  0  0  0  0  0  0  ...     0     0     0     0     0     5   \n",
       "559219  0  0  0  0  0  0  0  0  0  0  ...     0     0     0     0     0     5   \n",
       "559220  0  0  0  0  0  0  0  0  0  0  ...     0     0     0    29   362   588   \n",
       "559221  0  0  0  0  0  0  0  0  0  0  ...     0     0    32  1929   785   432   \n",
       "559222  0  0  0  0  0  0  0  0  0  0  ...     5    19   437  4137  5107     5   \n",
       "\n",
       "          54  Negative  Neutral  Positive  \n",
       "0       1747         0        0         1  \n",
       "1        109         0        0         1  \n",
       "2         40         0        1         0  \n",
       "3        975         0        0         1  \n",
       "4        786         0        0         1  \n",
       "...      ...       ...      ...       ...  \n",
       "559218     8         0        1         0  \n",
       "559219     8         0        0         1  \n",
       "559220   498         0        0         1  \n",
       "559221   443         0        0         1  \n",
       "559222    19         0        0         1  \n",
       "\n",
       "[559223 rows x 58 columns]"
      ]
     },
     "execution_count": 37,
     "metadata": {},
     "output_type": "execute_result"
    }
   ],
   "source": [
    "# Concatenate X and y into one DataFrame\n",
    "df_sequences = pd.DataFrame(X)\n",
    "df_clean = pd.concat([df_sequences, df_encoded.reset_index(drop=True)], axis=1)\n",
    "\n",
    "df_clean"
   ]
  },
  {
   "cell_type": "code",
   "execution_count": 38,
   "id": "8d07e8e5",
   "metadata": {
    "scrolled": true
   },
   "outputs": [],
   "source": [
    "# Store the cleaned dataset\n",
    "df_clean.to_json('clean_reviews.json')"
   ]
  },
  {
   "cell_type": "markdown",
   "id": "f196d485",
   "metadata": {},
   "source": [
    "<div style=\"text-align: right\"><a href='#title'>Scroll Up</a></div>\n",
    "\n",
    "## Part III: Network Architecture<a id='part3'/>\n",
    "---"
   ]
  },
  {
   "cell_type": "markdown",
   "id": "b2afdf79",
   "metadata": {},
   "source": [
    "### C1. Model Summary Output<a id='c1'/>\n",
    "---"
   ]
  },
  {
   "cell_type": "code",
   "execution_count": 39,
   "id": "8a1dabc8",
   "metadata": {},
   "outputs": [
    {
     "name": "stderr",
     "output_type": "stream",
     "text": [
      "2023-06-06 17:49:34.771757: I tensorflow/core/platform/cpu_feature_guard.cc:193] This TensorFlow binary is optimized with oneAPI Deep Neural Network Library (oneDNN) to use the following CPU instructions in performance-critical operations:  SSE4.1 SSE4.2\n",
      "To enable them in other operations, rebuild TensorFlow with the appropriate compiler flags.\n"
     ]
    }
   ],
   "source": [
    "# Initialize a Sequential model object\n",
    "model = Sequential([\n",
    "    Embedding(input_dim=len(word_index), output_dim=200, input_length=max_seq),\n",
    "    LSTM(128, return_sequences=True),\n",
    "    Dropout(0.5),\n",
    "    LSTM(128),\n",
    "    Dense(64, activation='relu', \n",
    "          kernel_regularizer=regularizers.l2(0.01), \n",
    "          activity_regularizer=regularizers.l1(0.01)),\n",
    "    Dense(3, activation='softmax')  # number of classes (sentiment categories)\n",
    "])"
   ]
  },
  {
   "cell_type": "code",
   "execution_count": 40,
   "id": "c7f49257",
   "metadata": {},
   "outputs": [],
   "source": [
    "model.compile(loss='categorical_crossentropy', optimizer='adam', metrics=['accuracy'])"
   ]
  },
  {
   "cell_type": "code",
   "execution_count": 41,
   "id": "a1a2fd3c",
   "metadata": {},
   "outputs": [
    {
     "name": "stdout",
     "output_type": "stream",
     "text": [
      "Model: \"sequential\"\n",
      "_________________________________________________________________\n",
      " Layer (type)                Output Shape              Param #   \n",
      "=================================================================\n",
      " embedding (Embedding)       (None, 55, 200)           13226800  \n",
      "                                                                 \n",
      " lstm (LSTM)                 (None, 55, 128)           168448    \n",
      "                                                                 \n",
      " dropout (Dropout)           (None, 55, 128)           0         \n",
      "                                                                 \n",
      " lstm_1 (LSTM)               (None, 128)               131584    \n",
      "                                                                 \n",
      " dense (Dense)               (None, 64)                8256      \n",
      "                                                                 \n",
      " dense_1 (Dense)             (None, 3)                 195       \n",
      "                                                                 \n",
      "=================================================================\n",
      "Total params: 13,535,283\n",
      "Trainable params: 13,535,283\n",
      "Non-trainable params: 0\n",
      "_________________________________________________________________\n"
     ]
    }
   ],
   "source": [
    "model.summary()"
   ]
  },
  {
   "cell_type": "markdown",
   "id": "e936e82a",
   "metadata": {},
   "source": [
    "### C2. Network Layers and Parameters<a id='c2'/>\n",
    "---\n",
    ">- **Embedding Layer**<br>\n",
    ">Our embedding layer functions as a look-up table that transitions from integer indices (representing specific words) to dense vectors. With the bulk of our parameters (13,226,800), this layer is responsible for fabricating a 200-dimensional vector for each word in our vocabulary. The 'None' in the output shape signifies this layer's capability to accept sequences of any length.\n",
    "><br><br>\n",
    ">- **LSTM Layers**<br>\n",
    ">Our architecture includes two LSTM layers with 128 units each. These layers are adept at managing sequential data, maintaining a memory of preceding inputs in the sequence. This feature is invaluable for sentiment analysis, where the sentence context is of crucial importance. Our initial LSTM layer is configured to return sequences, meaning it outputs a sequence identical in length to the input, enabling information passage to the next LSTM layer.\n",
    "><br><br>\n",
    ">- **Dropout Layer**<br>\n",
    ">To curb overfitting, we've incorporated a dropout layer. This layer randomly assigns zero to a fraction (50% in our case) of input units at each update during training time, a step that aids in preventing overfitting.\n",
    "><br><br>\n",
    ">- **Dense Layers**<br>\n",
    ">In conclusion, we have two dense layers. The first houses 64 units and utilizes the 'ReLU' activation function. To further deter overfitting, this layer also carries L1 and L2 regularization, applying penalties to the layer's output and weights respectively. These penalties deter overly complex or extreme values, encouraging more generalizable data patterns. Our final dense layer is the output layer, featuring 3 units corresponding to the three sentiment classes we're predicting ('Negative', 'Neutral', 'Positive'). This layer leverages the 'softmax' activation function, delivering a probability distribution over the three classes.\n",
    "><br><br>\n",
    ">- **Total Parameters**<br>\n",
    ">Altogether, our model possesses 13,535,283 parameters, all of which are trainable. The substantial quantity of parameters mainly originates from our embedding layer. Trainable parameters are those that the model assimilates from the training data, whereas non-trainable parameters remain static during training (our current model lacks any of these).\n",
    "---"
   ]
  },
  {
   "cell_type": "markdown",
   "id": "cd8e89b6",
   "metadata": {},
   "source": [
    "### C3. Justification: Hyperparameters<a id='c3'/>\n",
    "---\n",
    ">- **Activation functions**<br>\n",
    "We opted for the 'ReLU' (Rectified Linear Unit) activation function for the penultimate layer as it assists in addressing the vanishing gradient issue, a common phenomenon in deep neural networks. It's computationally efficient and performs reliably in numerous scenarios. For our output layer, we deployed the 'softmax' function, a standard choice for multiclass classification tasks, as it outputs a probability distribution over our target classes ('Negative', 'Neutral', 'Positive').\n",
    "><br><br>\n",
    ">- **Number of nodes per layer**<br>\n",
    "We've set the LSTM layers to house 128 nodes each, with our dense layer containing 64. These quantities strike a balance between computational efficiency and the model's ability to learn intricate patterns. These figures are flexible, however, and may require adjustments depending on the task's performance.\n",
    "><br><br>\n",
    ">- **Loss function**<br>\n",
    "We've employed 'categorical_crossentropy' as our loss function, a conventional choice for multiclass classification problems. It quantifies the dissimilarity between our predicted probability distribution and the actual distribution.\n",
    "><br><br>\n",
    ">- **Optimizer**<br>\n",
    "The 'adam' optimizer was chosen for its computational efficiency and modest memory demands. It's particularly suitable for problems involving substantial data and/or parameters. 'Adam' adjusts the learning rate for each weight individually, automating the tuning of the learning rate, which typically yields reliable results in practice.\n",
    "><br><br>\n",
    ">- **Stopping criteria**<br>\n",
    "We have implemented early stopping, a regularization technique used to avoid overfitting when training a learner with an iterative method such as gradient descent. This method suspends the training process if the model's performance on the validation set does not improve for a certain number of epochs. In our case, this was an essential criterion to ensure our model does not overfit the training data.\n",
    "><br><br>\n",
    ">- **Evaluation metric**<br>\n",
    "'Accuracy' was chosen as our evaluation metric for its simplicity and widespread use in classification tasks. It calculates the ratio of correct predictions to total predictions. If our data is imbalanced, we might want to explore other metrics such as precision, recall, or F1-score, as these can provide a more comprehensive understanding of our model's performance across diverse classes.\n",
    "---"
   ]
  },
  {
   "cell_type": "code",
   "execution_count": 42,
   "id": "9c3a05ee",
   "metadata": {},
   "outputs": [],
   "source": [
    "# Define validation set and convert to Tensor\n",
    "stop = int(len(X_test)/2)\n",
    "\n",
    "X_train = convert_to_tensor(X_train)\n",
    "X_val = convert_to_tensor(X_test[:stop])\n",
    "X_test = convert_to_tensor(X_test[stop:])\n",
    "\n",
    "y_train = convert_to_tensor(y_train)\n",
    "y_val = convert_to_tensor(y_test[:stop])\n",
    "y_test = convert_to_tensor(y_test[stop:])"
   ]
  },
  {
   "cell_type": "markdown",
   "id": "915956b7",
   "metadata": {},
   "source": [
    "<div style=\"text-align: right\"><a href='#title'>Scroll Up</a></div>\n",
    "\n",
    "## Part IV: Model Evaluation<a id='part4'/>\n",
    "---"
   ]
  },
  {
   "cell_type": "markdown",
   "id": "e4ed678f",
   "metadata": {},
   "source": [
    "### D1. Impact of Using Stopping Criteria<a id='d1'/>\n",
    "---\n",
    ">Implementing early stopping as a criterion during our model's training process was a strategic decision to enhance model performance. By setting a defined number of epochs, we may run the risk of overfitting if the model trains for too long and begins to capture noise and inconsistencies in the training set. Alternatively, we could underfit the model if the training duration is inadequate, thereby missing out on vital patterns in the data.\n",
    ">\n",
    ">By implementing early stopping, we made our model more dynamic. The model was set to halt its training if it didn't register any improvement in the validation loss for a specific number of consecutive epochs. This approach makes the most of our training data by using it just as long as it is beneficial. Therefore, the model can autonomously decide when training ceases, ensuring an optimal balance between underfitting and overfitting. As seen from the final training epoch, early stopping efficiently halted the process once the validation loss ceased to improve.\n",
    "---"
   ]
  },
  {
   "cell_type": "code",
   "execution_count": 43,
   "id": "d6bfc846",
   "metadata": {},
   "outputs": [],
   "source": [
    "# Create early stopping object\n",
    "early_stopping = EarlyStopping(monitor='val_loss', min_delta=0, patience=3, verbose=1, mode='auto')"
   ]
  },
  {
   "cell_type": "code",
   "execution_count": 44,
   "id": "7e492bb4",
   "metadata": {},
   "outputs": [
    {
     "name": "stdout",
     "output_type": "stream",
     "text": [
      "Epoch 1/100\n",
      "12233/12233 [==============================] - 1189s 97ms/step - loss: 0.4067 - accuracy: 0.8559 - val_loss: 0.3722 - val_accuracy: 0.8663\n",
      "Epoch 2/100\n",
      "12233/12233 [==============================] - 1182s 97ms/step - loss: 0.3542 - accuracy: 0.8715 - val_loss: 0.3569 - val_accuracy: 0.8694\n",
      "Epoch 3/100\n",
      "12233/12233 [==============================] - 1150s 94ms/step - loss: 0.3356 - accuracy: 0.8776 - val_loss: 0.3583 - val_accuracy: 0.8683\n",
      "Epoch 4/100\n",
      "12233/12233 [==============================] - 1155s 94ms/step - loss: 0.3210 - accuracy: 0.8829 - val_loss: 0.3585 - val_accuracy: 0.8679\n",
      "Epoch 5/100\n",
      "12233/12233 [==============================] - 1171s 96ms/step - loss: 0.3081 - accuracy: 0.8879 - val_loss: 0.3629 - val_accuracy: 0.8675\n",
      "Epoch 5: early stopping\n"
     ]
    }
   ],
   "source": [
    "# Train the model\n",
    "history = model.fit(\n",
    "    X_train, y_train,\n",
    "    epochs=100, # Set large number of epochs to ensure the early-stopping function is invoked\n",
    "    batch_size=32,\n",
    "    validation_data=(X_val, y_val),\n",
    "    callbacks=[early_stopping]\n",
    ")"
   ]
  },
  {
   "cell_type": "code",
   "execution_count": 45,
   "id": "4f1d86da",
   "metadata": {},
   "outputs": [
    {
     "data": {
      "text/html": [
       "<div>\n",
       "<style scoped>\n",
       "    .dataframe tbody tr th:only-of-type {\n",
       "        vertical-align: middle;\n",
       "    }\n",
       "\n",
       "    .dataframe tbody tr th {\n",
       "        vertical-align: top;\n",
       "    }\n",
       "\n",
       "    .dataframe thead th {\n",
       "        text-align: right;\n",
       "    }\n",
       "</style>\n",
       "<table border=\"1\" class=\"dataframe\">\n",
       "  <thead>\n",
       "    <tr style=\"text-align: right;\">\n",
       "      <th></th>\n",
       "      <th>loss</th>\n",
       "      <th>accuracy</th>\n",
       "      <th>val_loss</th>\n",
       "      <th>val_accuracy</th>\n",
       "    </tr>\n",
       "  </thead>\n",
       "  <tbody>\n",
       "    <tr>\n",
       "      <th>0</th>\n",
       "      <td>0.406704</td>\n",
       "      <td>0.855938</td>\n",
       "      <td>0.372153</td>\n",
       "      <td>0.866338</td>\n",
       "    </tr>\n",
       "    <tr>\n",
       "      <th>1</th>\n",
       "      <td>0.354234</td>\n",
       "      <td>0.871464</td>\n",
       "      <td>0.356870</td>\n",
       "      <td>0.869366</td>\n",
       "    </tr>\n",
       "    <tr>\n",
       "      <th>2</th>\n",
       "      <td>0.335577</td>\n",
       "      <td>0.877603</td>\n",
       "      <td>0.358325</td>\n",
       "      <td>0.868305</td>\n",
       "    </tr>\n",
       "    <tr>\n",
       "      <th>3</th>\n",
       "      <td>0.320968</td>\n",
       "      <td>0.882934</td>\n",
       "      <td>0.358550</td>\n",
       "      <td>0.867947</td>\n",
       "    </tr>\n",
       "    <tr>\n",
       "      <th>4</th>\n",
       "      <td>0.308078</td>\n",
       "      <td>0.887911</td>\n",
       "      <td>0.362867</td>\n",
       "      <td>0.867518</td>\n",
       "    </tr>\n",
       "  </tbody>\n",
       "</table>\n",
       "</div>"
      ],
      "text/plain": [
       "       loss  accuracy  val_loss  val_accuracy\n",
       "0  0.406704  0.855938  0.372153      0.866338\n",
       "1  0.354234  0.871464  0.356870      0.869366\n",
       "2  0.335577  0.877603  0.358325      0.868305\n",
       "3  0.320968  0.882934  0.358550      0.867947\n",
       "4  0.308078  0.887911  0.362867      0.867518"
      ]
     },
     "execution_count": 45,
     "metadata": {},
     "output_type": "execute_result"
    }
   ],
   "source": [
    "# Log the training results\n",
    "results = pd.DataFrame(history.history)\n",
    "results"
   ]
  },
  {
   "cell_type": "markdown",
   "id": "b2754ce6",
   "metadata": {},
   "source": [
    "### D2. Visualizations: Model Training Process<a id='d2'/>\n",
    "---\n",
    ">In the plots showcasing our model's training process, we get a vivid picture of how our model learned over time."
   ]
  },
  {
   "cell_type": "code",
   "execution_count": 46,
   "id": "76167fcd",
   "metadata": {},
   "outputs": [
    {
     "data": {
      "image/png": "[encoded data removed]",
      "text/plain": [
       "<Figure size 1152x360 with 1 Axes>"
      ]
     },
     "metadata": {
      "needs_background": "light"
     },
     "output_type": "display_data"
    }
   ],
   "source": [
    "plt.rcParams['figure.figsize'] = [16,5]\n",
    "# Plot loss\n",
    "sns.lineplot(data=results[['loss', 'val_loss']])\n",
    "plt.title('LSTM Model\\'s Training vs Validation Loss')\n",
    "plt.xlabel('Epoch')\n",
    "plt.ylabel('Loss')\n",
    "plt.legend(['Training', 'Validation'])\n",
    "plt.show()\n",
    "plt.rcParams['figure.figsize'] = [16,10]"
   ]
  },
  {
   "cell_type": "markdown",
   "id": "ee747d97",
   "metadata": {},
   "source": [
    ">The loss plot reveals how the model consistently improved its ability to predict sentiment with each epoch, both on the training and validation sets. It's notable that the validation loss began to plateau and even slightly increase towards the end, indicating that the model was beginning to overfit."
   ]
  },
  {
   "cell_type": "code",
   "execution_count": 48,
   "id": "e8fdd34c",
   "metadata": {},
   "outputs": [
    {
     "data": {
      "image/png": "[encoded data removed]",
      "text/plain": [
       "<Figure size 1152x360 with 1 Axes>"
      ]
     },
     "metadata": {
      "needs_background": "light"
     },
     "output_type": "display_data"
    }
   ],
   "source": [
    "plt.rcParams['figure.figsize'] = [16,5]\n",
    "#Plot accuracy\n",
    "sns.lineplot(data=results[['accuracy', 'val_accuracy']])\n",
    "plt.title('LSTM Model\\'s Training vs Validation Accuracy')\n",
    "plt.xlabel('Epoch')\n",
    "plt.ylabel('Accuracy')\n",
    "plt.legend(['Training', 'Validation'])\n",
    "plt.show()\n",
    "plt.rcParams['figure.figsize'] = [16,10]"
   ]
  },
  {
   "cell_type": "markdown",
   "id": "fd66655b",
   "metadata": {},
   "source": [
    ">The accuracy plot complements the loss plot, illustrating the model's increasing proficiency in correctly predicting sentiment as training progressed.\n",
    "---"
   ]
  },
  {
   "cell_type": "markdown",
   "id": "d8939a98",
   "metadata": {},
   "source": [
    "### D3. Model Fitness and Measures to Address Overfitting<a id='d3'/>\n",
    "---\n",
    ">The model, as a whole, demonstrates a good fit. It exhibits a gradual learning curve and manages to achieve a high accuracy on the training set. However, we noted signs of overfitting towards the end of the training process, where the validation loss started to increase, and validation accuracy plateaued. To counteract this, we implemented early stopping, which halted training once the model stopped improving on the validation set. Additionally, we incorporated dropout layers and L1 and L2 regularization within our model. These techniques randomly deactivate neurons and apply penalties to the model's weights, respectively, preventing the model from relying too much on any single pattern and encouraging it to find more generalizable underlying patterns.\n",
    "---"
   ]
  },
  {
   "cell_type": "markdown",
   "id": "50bf63fd",
   "metadata": {},
   "source": [
    "### D4. Predictive Accuracy<a id='d4'/>\n",
    "---\n",
    ">Our neural network has shown a commendable predictive accuracy of about 86.95% on unseen test data. This suggests that the model is proficient in its sentiment prediction capabilities when applied to real-world scenarios. However, it's important to bear in mind that even with this encouraging result, there's always room for refinement in the ever-evolving landscape of machine learning.\n",
    "---"
   ]
  },
  {
   "cell_type": "code",
   "execution_count": 49,
   "id": "8880f606",
   "metadata": {},
   "outputs": [
    {
     "name": "stdout",
     "output_type": "stream",
     "text": [
      "Evaluate on test data\n",
      "2622/2622 [==============================] - 56s 21ms/step - loss: 0.3621 - accuracy: 0.8695\n",
      "Test loss, Test accuracy: [0.3621439039707184, 0.869510293006897]\n"
     ]
    }
   ],
   "source": [
    "# Evaluate the model on the test data\n",
    "print('Evaluate on test data')\n",
    "test_results = model.evaluate(X_test, y_test, batch_size=32)\n",
    "print('Test loss, Test accuracy:', test_results)"
   ]
  },
  {
   "cell_type": "markdown",
   "id": "3c2f7ee8",
   "metadata": {},
   "source": [
    "<div style=\"text-align: right\"><a href='#title'>Scroll Up</a></div>\n",
    "\n",
    "## Part V: Summary and Recommendations<a id='part5'/>\n",
    "---"
   ]
  },
  {
   "cell_type": "markdown",
   "id": "2df9e724",
   "metadata": {},
   "source": [
    "### E. Save the Trained Network<a id='e'/>\n",
    "---"
   ]
  },
  {
   "cell_type": "code",
   "execution_count": 50,
   "id": "f687d3ba",
   "metadata": {},
   "outputs": [],
   "source": [
    "# Save the trained network\n",
    "model.save('lstm_model.h5')  # create an HDF5 file 'lstm_model.h5'"
   ]
  },
  {
   "cell_type": "code",
   "execution_count": 51,
   "id": "1256d581",
   "metadata": {},
   "outputs": [],
   "source": [
    "# Load the model\n",
    "loaded_model = load_model('lstm_model.h5')"
   ]
  },
  {
   "cell_type": "markdown",
   "id": "c5c1ed31",
   "metadata": {},
   "source": [
    "### F. Neural Network Functionality<a id='f'/>\n",
    "---\n",
    ">Our neural network is structured to effectively handle the complex task of sentiment analysis on textual data. The architectural choices play an instrumental role in the model's efficacy, shaping how well it learns from our data, generalizes to unseen examples, and ultimately performs sentiment prediction. Starting off with the Embedding layer, this look-up table allows us to translate word indices into their corresponding vector representations. This layer is crucial as it enables our model to understand the semantic meaning embedded in each word and interpret how different words relate to one another. It's worth noting that the lion's share of our model's parameters resides in this layer due to its responsibility of crafting a 200-dimensional vector for each word in our vocabulary.\n",
    ">\n",
    ">Moving on, the sequential nature of our textual data demanded the implementation of LSTM layers. With their ability to remember past inputs via internal memory, LSTM layers adeptly handle the dependencies between words in a sentence - an indispensable capability for sentiment analysis, as the sentiment often relies heavily on the context provided by the preceding words. The decision to use two LSTM layers augments the network's capacity to extract and interpret complex structures in the data. To mitigate overfitting, we strategically inserted a Dropout layer, which randomly sets a portion of its inputs to zero during each training step. This encourages the model to learn more robust, generalizable patterns in the data and lessens its tendency to over-rely on specific features.\n",
    ">\n",
    ">The dense layers, or fully connected layers, act as the decision-making head of our network. The penultimate layer, with its 64 nodes, transforms the high-level features extracted by the preceding layers into a form suitable for final classification. By incorporating L1 and L2 regularization, we've ensured this layer doesn't produce overly complex or extreme values, further bolstering our model's generalizability. Our final layer houses three nodes corresponding to the three sentiment classes we're predicting. Utilizing the 'softmax' activation function, this layer effectively churns out a probability distribution over the classes, enabling us to identify the most probable sentiment for a given input review.\n",
    ">\n",
    ">As a whole, our network's architecture is designed to handle the intricate task of sentiment analysis with grace. It intelligently combines the ability to understand semantic meanings, remember crucial context, generalize well, and make informed decisions based on the learned patterns. Each architectural choice has a tangible impact on our model's performance and has been meticulously considered to ensure our model's success in sentiment prediction.\n",
    "---"
   ]
  },
  {
   "cell_type": "markdown",
   "id": "81c67c5f",
   "metadata": {},
   "source": [
    "### G. Recommended Course of Action<a id='g'/>\n",
    "---\n",
    ">Upon reflecting on the results and observations made during our exploration of sentiment analysis with LSTM networks, I would recommend the following course of action:\n",
    ">\n",
    ">- **Experimentation with Network Architecture:**<br>\n",
    ">Our current model demonstrates respectable performance, but there's always room for improvement. By varying the number of LSTM layers or their units, we could explore how these adjustments influence our model's accuracy. The addition of Bidirectional LSTMs, for instance, might enable the model to learn from both past and future context.\n",
    "><br><br>\n",
    ">- **Hyperparameter Tuning:**<br>\n",
    ">Experimenting with the model's hyperparameters, such as batch size, learning rate, or the dropout rate, could result in improved model performance. Grid Search or Random Search methods could be employed to systematically identify the optimal combination of these hyperparameters.\n",
    "><br><br>\n",
    ">- **Improved Handling of Imbalanced Classes:**<br>\n",
    ">Our model seemed to struggle slightly more with neutral reviews. Techniques like oversampling, undersampling, or generating synthetic samples could be explored to handle the class imbalance better, potentially enhancing the model's performance, particularly for underrepresented classes.\n",
    "><br><br>\n",
    ">- **Enriched Preprocessing:**<br>\n",
    ">Investigating other text preprocessing techniques like more sophisticated tokenization, employing n-grams, or better handling of negations could lead to more effective feature extraction, subsequently boosting our model's ability to discern sentiments.\n",
    "><br><br>\n",
    ">- **Transfer Learning:**<br>\n",
    ">Leveraging pre-trained word embeddings like Word2Vec or GloVe, or even more advanced language models like BERT, could enhance our model's understanding of semantic meanings, likely improving the sentiment prediction capabilities.\n",
    ">\n",
    ">Through a combination of these tactics, we could refine our sentiment analysis model, ensuring it not only maintains its robust performance on the current dataset but also generalizes well to other similar tasks, bolstering its overall utility in real-world applications."
   ]
  },
  {
   "cell_type": "markdown",
   "id": "ca6d233e",
   "metadata": {},
   "source": [
    "<div style=\"text-align: right\"><a href='#title'>Scroll Up</a></div>"
   ]
  }
 ],
 "metadata": {
  "kernelspec": {
   "display_name": "Python 3 (ipykernel)",
   "language": "python",
   "name": "python3"
  },
  "language_info": {
   "codemirror_mode": {
    "name": "ipython",
    "version": 3
   },
   "file_extension": ".py",
   "mimetype": "text/x-python",
   "name": "python",
   "nbconvert_exporter": "python",
   "pygments_lexer": "ipython3",
   "version": "3.9.12"
  }
 },
 "nbformat": 4,
 "nbformat_minor": 5
}
